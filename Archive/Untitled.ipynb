{
 "cells": [
  {
   "cell_type": "code",
   "execution_count": 1,
   "id": "92caba37",
   "metadata": {},
   "outputs": [],
   "source": [
    "import pandas as pd\n",
    "import numpy as np\n",
    "\n",
    "df = pd.read_csv('data/Zoning_Application_Portal_pid.csv')\n"
   ]
  },
  {
   "cell_type": "code",
   "execution_count": 12,
   "id": "83781605",
   "metadata": {},
   "outputs": [],
   "source": [
    "pid = df['project_id']\n",
    "years = []\n",
    "for item in pid:\n",
    "    if item[0] == 'P':\n",
    "        years.append(int(item[1:5]))\n",
    "    else:\n",
    "        years.append((item[0:4]))\n",
    "\n",
    "df['Year'] = years\n",
    "df.to_csv('ZAP_ProjectID_Year.csv')"
   ]
  }
 ],
 "metadata": {
  "kernelspec": {
   "display_name": "Python 3 (ipykernel)",
   "language": "python",
   "name": "python3"
  },
  "language_info": {
   "codemirror_mode": {
    "name": "ipython",
    "version": 3
   },
   "file_extension": ".py",
   "mimetype": "text/x-python",
   "name": "python",
   "nbconvert_exporter": "python",
   "pygments_lexer": "ipython3",
   "version": "3.9.5"
  }
 },
 "nbformat": 4,
 "nbformat_minor": 5
}
